{
  "nbformat": 4,
  "nbformat_minor": 0,
  "metadata": {
    "colab": {
      "provenance": []
    },
    "kernelspec": {
      "name": "python3",
      "display_name": "Python 3"
    },
    "language_info": {
      "name": "python"
    }
  },
  "cells": [
    {
      "cell_type": "markdown",
      "source": [
        "# 클래스 작성하기"
      ],
      "metadata": {
        "id": "ko0NVTxVGqnz"
      }
    },
    {
      "cell_type": "markdown",
      "source": [
        " ### Q. 아래 코드가 오류나는 이유는?  \n",
        "\n",
        "메소드 호출 시 내부적으로 객체의 주소가 전달되는데,\n",
        " p1이 가르키는 객체의 주소가 전달되려면 주소를 받을 수 있는 변수가 필요하기 때문이다.\n",
        "\n"
      ],
      "metadata": {
        "id": "4TpNOyW7mrGA"
      }
    },
    {
      "cell_type": "code",
      "execution_count": null,
      "metadata": {
        "colab": {
          "base_uri": "https://localhost:8080/",
          "height": 244
        },
        "id": "ZW409Ol8GGXR",
        "outputId": "5b9a2e4a-71ce-4ab8-acc8-4aafeccff286"
      },
      "outputs": [
        {
          "output_type": "error",
          "ename": "TypeError",
          "evalue": "ignored",
          "traceback": [
            "\u001b[0;31m---------------------------------------------------------------------------\u001b[0m",
            "\u001b[0;31mTypeError\u001b[0m                                 Traceback (most recent call last)",
            "\u001b[0;32m<ipython-input-2-945df98d0d8a>\u001b[0m in \u001b[0;36m<cell line: 9>\u001b[0;34m()\u001b[0m\n\u001b[1;32m      7\u001b[0m \u001b[0;31m# 객체 생성\u001b[0m\u001b[0;34m\u001b[0m\u001b[0;34m\u001b[0m\u001b[0m\n\u001b[1;32m      8\u001b[0m \u001b[0mp1\u001b[0m \u001b[0;34m=\u001b[0m \u001b[0mPerson\u001b[0m\u001b[0;34m(\u001b[0m\u001b[0;34m)\u001b[0m \u001b[0;31m# 클래스를 통해 객체를 만들고 변수가 가리킨다.\u001b[0m\u001b[0;34m\u001b[0m\u001b[0;34m\u001b[0m\u001b[0m\n\u001b[0;32m----> 9\u001b[0;31m \u001b[0mp1\u001b[0m\u001b[0;34m.\u001b[0m\u001b[0mwork\u001b[0m\u001b[0;34m(\u001b[0m\u001b[0;34m)\u001b[0m \u001b[0;31m# 변수를 통해 메서드 접근할 수 있다.\u001b[0m\u001b[0;34m\u001b[0m\u001b[0;34m\u001b[0m\u001b[0m\n\u001b[0m\u001b[1;32m     10\u001b[0m \u001b[0;34m\u001b[0m\u001b[0m\n\u001b[1;32m     11\u001b[0m \u001b[0;31m# 왜 오류날까?\u001b[0m\u001b[0;34m\u001b[0m\u001b[0;34m\u001b[0m\u001b[0m\n",
            "\u001b[0;31mTypeError\u001b[0m: Person.work() takes 0 positional arguments but 1 was given"
          ]
        }
      ],
      "source": [
        "# 클래스 정의(선언)\n",
        "class Person:\n",
        "  # 맴버 메소드\n",
        "  def work():\n",
        "    print('일을 한다.')\n",
        "\n",
        "# 객체 생성\n",
        "p1 = Person() # 클래스를 통해 객체를 만들고 변수가 가리킨다. \n",
        "p1.work() # 변수를 통해 메서드 접근할 수 있다."
      ]
    },
    {
      "cell_type": "markdown",
      "source": [
        "### self 매개변수\n",
        "- 클래스 정의할때 맴버 매소드 정의 시 첫번째 인자는 객체의 주소를 받을 수 있는 **'self'** 라는 매개변수가 온다.    \n",
        "\n",
        "- 아래 코드에서 매개변수의 이름을 a라고 달아도 상관없지만 객체 자신을 뜻한다는 의미 전달을 위해 'self '라고 짓는다. 일반 매개변수인지, 객체 자신을 가리키는 매개변수인지 구분해야 하기 때문이다.    \n",
        "\n",
        "\n",
        "\n",
        "### self.name VS name\n",
        "- self.name: 객체 자신의 이름의 공간이 할당 \n",
        "- name: 매개변수로 받은 값을 할당  \n",
        "\n",
        "즉, 두 저장공간이 서로 다르기 때문에 이름을 꼭 맞출 필요는 없지만 가독성을 위해 맞춤"
      ],
      "metadata": {
        "id": "Z9mXEsqLFX2m"
      }
    },
    {
      "cell_type": "code",
      "source": [
        "# 클래스 정의 (선언)\n",
        "class Person:\n",
        "  # 맴버 메소드\n",
        "  def work(self): # a= 매개변수로, 객체의 주소를 받을 수 있는 변수가 필요하다. \n",
        "    print('일을 한다.')\n",
        "    print(id(self))\n",
        "\n",
        "# 객체 생성\n",
        "p1 = Person() # 클래스를 통해 객체를 만들고 변수가 가리킨다. \n",
        "p1.work() # 변수를 통해 메서드 접근할 수 있다.(객체의 주소가 전달)\n",
        "print(id(p1)) \n",
        "\n",
        "p2  = Person()\n",
        "p2.work() # 객체의 주소가 전달\n",
        "print(id(p2))\n",
        "\n",
        "# work의 메소드 입장에서는 어떤 object를 변경해야 하는지 알 수 있는 방법이 객체 주소이다. \n",
        "# 따라서 메소드를 호출할 때는 객체 자신의 주소가 전달된다. "
      ],
      "metadata": {
        "id": "Eo-bmR9IH56Q"
      },
      "execution_count": null,
      "outputs": []
    },
    {
      "cell_type": "markdown",
      "source": [
        "항상 클래스 내부 매개변수 수는 매소드를 호출할 때의 argument보다 1개 더 많다.   \n",
        "\n",
        "그 이유는, 객체 자신의 주소가 전달되기 때문이다. "
      ],
      "metadata": {
        "id": "gdLxXMYvnfuI"
      }
    },
    {
      "cell_type": "code",
      "source": [
        "# 클래스 정의\n",
        "class Person:\n",
        "  # 맴버 메소드(get~ set~)\n",
        "  def setname(self, name):\n",
        "    self.name = name \n",
        "  def setage(self, age):\n",
        "    self.age = age\n",
        "  def show(self):\n",
        "    print(f'{self.name}, {self.age}') # 클래스 내부에서 설계된 맴버들에 접근할때는 self keyword를 붙여야 함 \n",
        "\n",
        "# 객체 생성\n",
        "p1 = Person() # 메모리공간에 Person이 만들어지고 p1 변수가 가리킨다. \n",
        "p1.setname(\"장서윤\") # aurgument를 받아서 self.name=name에 할당함. 비어있는 메모리 공간 상에 \"장서윤\" 저장 \n",
        "p1.setage(21) \n",
        "# p1.name , p1.age\n",
        "p1.show()\n",
        "\n",
        "# 메소드를 호출 할 때의 argument 수 + 1 = 클래스 내부 매개변수 (객체 자신의 주소가 전달되기 때문)"
      ],
      "metadata": {
        "colab": {
          "base_uri": "https://localhost:8080/"
        },
        "id": "JamjjSs0aCMg",
        "outputId": "c841d7e3-19b3-4903-9b41-7b58f470eac3"
      },
      "execution_count": null,
      "outputs": [
        {
          "output_type": "stream",
          "name": "stdout",
          "text": [
            "장서윤, 21\n"
          ]
        }
      ]
    },
    {
      "cell_type": "markdown",
      "source": [
        "## 생성자 정의"
      ],
      "metadata": {
        "id": "JQZHDza_Ksss"
      }
    },
    {
      "cell_type": "markdown",
      "source": [
        "- 객체가 생성될 때 객체를 기본값으로 초기화하는 특수한 메소드\n",
        "- 인스턴스 변수가 생성되는 곳: 객체의 인스턴스 변수들을 정의하고 초기화\n",
        "- 객체가 생성될 때 생성자는 자동으로 호출됨\n",
        "- 파이썬은 클래스에 대해 하나의 생성자만을 허용한다. (C++나 Java와 같은 프로그래밍 언어는 여러 가지 형태의 생성자를 허용하고 이 때는 클래스의 이름을 중복 정의하여 사용할 수 있다.)"
      ],
      "metadata": {
        "id": "YuUZ0XuyTMnz"
      }
    },
    {
      "cell_type": "code",
      "source": [
        "# 클래스 정의\n",
        "class Person:\n",
        "  # 생성자: 객체의 초기화 담당, 객체 생성될 때 자동 호출, 단 한번만 호출됨, return이 없음.\n",
        "  def __init__(self, n):\n",
        "    self.name = n # 매개변수가 저장되는 공간 !=객체(인스턴스 변수)가 저장되는 공간 이라서 이름이 달라도 됨.\n",
        "    # self.name = '장서윤' 이렇게 바로 값을 전달해도 됨.\n",
        "\n",
        "  # 메소드\n",
        "  def setname(self, n):\n",
        "    self.name = n\n",
        "    \n",
        "  def show(self):\n",
        "    print(self.name)\n",
        "\n",
        "# 객체 생성\n",
        "p1 = Person('장서윤') # 생성자가 정의됐을 때는 객체의 주소가 전달될 때 하나의 값(n)을 주어야 함.\n",
        "p1.show()"
      ],
      "metadata": {
        "colab": {
          "base_uri": "https://localhost:8080/"
        },
        "id": "1q38s5cdKq5L",
        "outputId": "019872d6-c20f-43f0-db7b-c02107f2312d"
      },
      "execution_count": null,
      "outputs": [
        {
          "output_type": "stream",
          "name": "stdout",
          "text": [
            "장서윤\n"
          ]
        }
      ]
    },
    {
      "cell_type": "code",
      "source": [
        "# 여러 객체의 생성\n",
        "p2 = Person(\"김민지\")\n",
        "p2.show()\n",
        "p3 = Person('정문복')\n",
        "p3.show()"
      ],
      "metadata": {
        "colab": {
          "base_uri": "https://localhost:8080/"
        },
        "id": "uS62dHqqMnyb",
        "outputId": "40674048-f9ba-40d4-f991-26b6c60bc7bf"
      },
      "execution_count": null,
      "outputs": [
        {
          "output_type": "stream",
          "name": "stdout",
          "text": [
            "김민지\n",
            "정문복\n"
          ]
        }
      ]
    },
    {
      "cell_type": "markdown",
      "source": [
        "단일 변수 뿐만 아니라 collection 자료형들도 다 object 단위로 저장 가능함."
      ],
      "metadata": {
        "id": "LHY0GnjVWQyA"
      }
    },
    {
      "cell_type": "code",
      "source": [
        "# 리스트에 추가\n",
        "stu = []\n",
        "p = Person(\"장서윤\") # 하나의 object 생성\n",
        "stu.append(p) # 생성된 object를 리스트에 넣음\n",
        "p = Person('이종석')\n",
        "stu.append(p)\n",
        "print(stu) # 다 주소만 출력됨. 또다른 object를 연결하고 있기 때문. \n",
        "\n",
        "# object가 가지고 있는 내용들에 접근하려면? 클래스 내부에 설계된 값을 조회하면 됨. \n",
        "print(stu[1].name)\n",
        "stu[0].show()\n",
        "stu[1].show()"
      ],
      "metadata": {
        "colab": {
          "base_uri": "https://localhost:8080/"
        },
        "id": "PkPvb9ioM58e",
        "outputId": "199a801f-9ad5-4886-d916-0d2dcf41c7e9"
      },
      "execution_count": null,
      "outputs": [
        {
          "output_type": "stream",
          "name": "stdout",
          "text": [
            "[<__main__.Person object at 0x7f70d19f9b40>, <__main__.Person object at 0x7f70d19f9e40>]\n",
            "이종석\n",
            "장서윤\n",
            "이종석\n"
          ]
        }
      ]
    },
    {
      "cell_type": "markdown",
      "source": [
        "## 메소드 정의"
      ],
      "metadata": {
        "id": "9NdWI4xdOQzy"
      }
    },
    {
      "cell_type": "code",
      "source": [
        "class Television:\n",
        "  # 생성자 정의\n",
        "  def __init__(self, channel, volume, on):\n",
        "    self.channel = channel\n",
        "    self.volume = volume\n",
        "    self.on = on\n",
        "\n",
        "  # 맴버메소드정의\n",
        "  def show(self):\n",
        "    print(f'channel:{self.channel}')\n",
        "    print(f'volume:{self.volume}')\n",
        "    print(f'on:{self.on}')\n",
        "  def setChannel(self, channel):\n",
        "    self.channel = channel\n",
        "  def getChannel(self):\n",
        "    return self.channel"
      ],
      "metadata": {
        "id": "UFmEa-jkOTA9"
      },
      "execution_count": null,
      "outputs": []
    },
    {
      "cell_type": "code",
      "source": [
        "# 객체 생성\n",
        "t =Television(9,10,True)\n",
        "t.show()\n",
        "t.setChannel(11)\n",
        "t.show()"
      ],
      "metadata": {
        "colab": {
          "base_uri": "https://localhost:8080/"
        },
        "id": "NSisPjNnVjwh",
        "outputId": "d7eed8ab-c534-407e-8e6c-4f7ad7ac9d66"
      },
      "execution_count": null,
      "outputs": [
        {
          "output_type": "stream",
          "name": "stdout",
          "text": [
            "channel:9\n",
            "volume:10\n",
            "on:True\n",
            "channel:11\n",
            "volume:10\n",
            "on:True\n"
          ]
        }
      ]
    },
    {
      "cell_type": "markdown",
      "source": [
        "# 예제 1 : 간단한 계산기 클래스 정의\n"
      ],
      "metadata": {
        "id": "4A-cvRTHWw65"
      }
    },
    {
      "cell_type": "code",
      "source": [
        "# 클래스 정의\n",
        "class Calculator:\n",
        "  def __init__(self, n1, n2):\n",
        "    self.num1= n1\n",
        "    self.num2= n2\n",
        "  def add(self):\n",
        "    result = self.num1 + self.num2\n",
        "    return result\n",
        "  def sub(self):\n",
        "    result = self.num1 - self.num2\n",
        "    return result\n"
      ],
      "metadata": {
        "id": "a4BtSY76XabL"
      },
      "execution_count": null,
      "outputs": []
    },
    {
      "cell_type": "code",
      "source": [
        "# 객체생성하기\n",
        "calc1 = Calculator(10, 20)"
      ],
      "metadata": {
        "id": "auxHJGqFX6-N"
      },
      "execution_count": null,
      "outputs": []
    },
    {
      "cell_type": "code",
      "source": [
        "# 메소드 호출하기\n",
        "print(calc1.add())\n",
        "print(calc1.sub())"
      ],
      "metadata": {
        "colab": {
          "base_uri": "https://localhost:8080/"
        },
        "id": "ZYEy6acyYOQS",
        "outputId": "317a48db-0e7f-4457-94f8-1ab2ed8bb9e3"
      },
      "execution_count": null,
      "outputs": [
        {
          "output_type": "stream",
          "name": "stdout",
          "text": [
            "30\n",
            "-10\n"
          ]
        }
      ]
    },
    {
      "cell_type": "code",
      "source": [
        "# 객체 속성 접근\n",
        "print(calc1.num1)\n",
        "print(calc1.num2)"
      ],
      "metadata": {
        "colab": {
          "base_uri": "https://localhost:8080/"
        },
        "id": "sNY7l_x7YYxh",
        "outputId": "79400e58-aef3-4152-fceb-23a7b8fb0af6"
      },
      "execution_count": null,
      "outputs": [
        {
          "output_type": "stream",
          "name": "stdout",
          "text": [
            "10\n",
            "20\n"
          ]
        }
      ]
    },
    {
      "cell_type": "code",
      "source": [
        "# 객체 속성 변경\n",
        "calc1.num1 = 100\n",
        "calc1.num2 = 200\n",
        "print(calc1.add())"
      ],
      "metadata": {
        "id": "nUuFLU3eYfFl",
        "colab": {
          "base_uri": "https://localhost:8080/"
        },
        "outputId": "4da7cb73-18c3-4470-c023-2a5986dc6800"
      },
      "execution_count": null,
      "outputs": [
        {
          "output_type": "stream",
          "name": "stdout",
          "text": [
            "300\n"
          ]
        }
      ]
    },
    {
      "cell_type": "markdown",
      "source": [
        "# 예제 2 : Student 클래스"
      ],
      "metadata": {
        "id": "pofb2UOEYrqG"
      }
    },
    {
      "cell_type": "code",
      "source": [
        "class Student:\n",
        "  def __init__(self, name, id):\n",
        "    self.name = name\n",
        "    self.id = id\n",
        "  def get_name(self):\n",
        "    return self.name\n",
        "  def get_id(self):\n",
        "    return self.id\n",
        "  def show(self):\n",
        "    print(f'{self.name}\\n{self.id}')"
      ],
      "metadata": {
        "id": "0s60jihNYvJF"
      },
      "execution_count": null,
      "outputs": []
    },
    {
      "cell_type": "code",
      "source": [
        "# 객체 생성 후 객체 정보 출력\n",
        "best = Student('Lee', 101)\n",
        "print(best.get_name())\n",
        "print(best.get_id())\n",
        "best.show()"
      ],
      "metadata": {
        "colab": {
          "base_uri": "https://localhost:8080/"
        },
        "id": "GmSDu1KSZKor",
        "outputId": "f0598760-1c0d-405a-81a9-568dfcf318a5"
      },
      "execution_count": null,
      "outputs": [
        {
          "output_type": "stream",
          "name": "stdout",
          "text": [
            "Lee\n",
            "101\n",
            "Lee\n",
            "101\n"
          ]
        }
      ]
    },
    {
      "cell_type": "markdown",
      "source": [
        "# 예제 3 : Dog 클래스"
      ],
      "metadata": {
        "id": "-FVbfTWyZhbQ"
      }
    },
    {
      "cell_type": "code",
      "source": [
        "class Dog: # 강아지의 이름과 나이를 표현하는 클래스 정의\n",
        "  def __init__(self, name, age): # 강아지 객체를 생성하는 생성자 메소드\n",
        "    self.name = name\n",
        "    self.age = age\n",
        "\n",
        "  def bark(self):\n",
        "    print(self.name, 'is barking')"
      ],
      "metadata": {
        "id": "M5yvFUMIZof5"
      },
      "execution_count": null,
      "outputs": []
    },
    {
      "cell_type": "code",
      "source": [
        "# 객체 생성 후 객체 정보 출력\n",
        "x = Dog('jack', 3)\n",
        "y = Dog('Daisy', 2)\n",
        "x.bark()\n",
        "y.bark()"
      ],
      "metadata": {
        "colab": {
          "base_uri": "https://localhost:8080/"
        },
        "id": "_lByLWeoj4gp",
        "outputId": "aadd3014-2fcc-4a7a-a914-44caac8e7c9a"
      },
      "execution_count": null,
      "outputs": [
        {
          "output_type": "stream",
          "name": "stdout",
          "text": [
            "jack is barking\n",
            "Daisy is barking\n"
          ]
        }
      ]
    },
    {
      "cell_type": "code",
      "source": [
        "# 멤버 메소드 정의\n",
        "print(x.name, 'is', x.age, 'years old')\n",
        "print(y.name, 'is', y.age, 'years old')"
      ],
      "metadata": {
        "colab": {
          "base_uri": "https://localhost:8080/"
        },
        "id": "TxE_b7Odj-gZ",
        "outputId": "fc3f8ea7-216b-4e38-a38d-be1aac43da31"
      },
      "execution_count": null,
      "outputs": [
        {
          "output_type": "stream",
          "name": "stdout",
          "text": [
            "jack is 3 years old\n",
            "Daisy is 2 years old\n"
          ]
        }
      ]
    },
    {
      "cell_type": "markdown",
      "source": [
        "# 예제 4 : 자동차 클래스 정의 및 객체활용"
      ],
      "metadata": {
        "id": "pHf0YvrnafCl"
      }
    },
    {
      "cell_type": "code",
      "source": [
        "class Car:\n",
        "  def __init__(self, color,speed):\n",
        "    self.color = color\n",
        "    self.speed= speed \n",
        "\n",
        "  def upSpeed(self, value):\n",
        "    speed = self.speed + self.value\n",
        "    return speed\n",
        "    \n",
        "  def downSpeed(self,value):\n",
        "    speed = self.speed - self.value\n",
        "    return speed"
      ],
      "metadata": {
        "id": "dfNbVQ4VamlY"
      },
      "execution_count": null,
      "outputs": []
    },
    {
      "cell_type": "code",
      "source": [
        "car1 = Car('Red', 150)\n",
        "car2 = Car('Yellow', 200)\n",
        "print(f'color: {car1.color}, speed: {car1.speed}')\n",
        "print(f'color: {car2.color}, speed: {car2.speed}')"
      ],
      "metadata": {
        "colab": {
          "base_uri": "https://localhost:8080/"
        },
        "id": "8RnlcFkwbGD_",
        "outputId": "23159780-5de9-4a4d-a10c-f739e930b834"
      },
      "execution_count": null,
      "outputs": [
        {
          "output_type": "stream",
          "name": "stdout",
          "text": [
            "color: Red, speed: 150\n",
            "color: Yellow, speed: 200\n"
          ]
        }
      ]
    },
    {
      "cell_type": "code",
      "source": [
        "car1.color = 'Blue'\n",
        "car2.color = 'Blue'\n",
        "car2.speed = 200\n",
        "\n",
        "print(f'color: {car1.color}')\n",
        "print(f'color: {car2.color}, speed: {car2.speed}')"
      ],
      "metadata": {
        "colab": {
          "base_uri": "https://localhost:8080/"
        },
        "id": "LIP5hemalhsU",
        "outputId": "86c05d55-d6c3-4850-d324-ad39d063259f"
      },
      "execution_count": null,
      "outputs": [
        {
          "output_type": "stream",
          "name": "stdout",
          "text": [
            "color: Blue\n",
            "color: Blue, speed: 200\n"
          ]
        }
      ]
    },
    {
      "cell_type": "markdown",
      "source": [
        "# 예제 5 : 학생 성적관리 프로그램"
      ],
      "metadata": {
        "id": "tzJ_C6odam_U"
      }
    },
    {
      "cell_type": "code",
      "source": [
        "class Student:\n",
        "  def __init__(self, name, kor, eng, math):\n",
        "    self.name = name\n",
        "    self.kor= kor\n",
        "    self.eng = eng\n",
        "    self.math= math\n",
        "\n",
        "  def getSum(self):\n",
        "    self.sum = self.kor + self.eng + self.math\n",
        "\n",
        "  def getAvg(self):\n",
        "    self.avg = round(self.sum / 3)\n",
        "\n",
        "  def getGrade(self):\n",
        "    if self.avg > 90:\n",
        "      grade = \"A\"\n",
        "    elif self.avg > 70:\n",
        "      grade = 'B'\n",
        "    else:\n",
        "      grade = \"C\"\n",
        "    self.grade = grade\n",
        "\n",
        "  def getString(self):\n",
        "    print(f'{self.name}    {self.avg}    {self.grade}')"
      ],
      "metadata": {
        "id": "SP7PksW3cr5f"
      },
      "execution_count": null,
      "outputs": []
    },
    {
      "cell_type": "code",
      "source": [
        "student = []\n",
        "s1 = Student('AAA', 100, 90, 95)\n",
        "student.append(s1)\n",
        "s2 = Student('BBB', 30, 50, 10)\n",
        "student.append(s2)\n",
        "s3 = Student('CCC', 98, 70, 81)\n",
        "student.append(s3)\n",
        "s4 = Student('DDD', 80, 60, 90)\n",
        "student.append(s4)"
      ],
      "metadata": {
        "id": "br4aJAYXcwUO"
      },
      "execution_count": null,
      "outputs": []
    },
    {
      "cell_type": "code",
      "source": [
        "print('이름  평균  학점')\n",
        "print('================')\n",
        "for i in range(len(student)):\n",
        "  student[i].getSum()\n",
        "  student[i].getAvg()\n",
        "  student[i].getGrade()\n",
        "  student[i].getString()\n",
        "print(\"================\")"
      ],
      "metadata": {
        "colab": {
          "base_uri": "https://localhost:8080/"
        },
        "id": "XC0xpibMXal8",
        "outputId": "5d5f6151-ec4f-4d77-edfe-7090d5e52e06"
      },
      "execution_count": null,
      "outputs": [
        {
          "output_type": "stream",
          "name": "stdout",
          "text": [
            "이름  평균  학점\n",
            "================\n",
            "AAA    95    A\n",
            "BBB    30    C\n",
            "CCC    83    B\n",
            "DDD    77    B\n",
            "================\n"
          ]
        }
      ]
    },
    {
      "cell_type": "markdown",
      "source": [
        "## 예제 6 : 이름, 국, 영, 수 점수를 입력받아 텍스트 파일을 쓰고 읽어와서 이름, 평균, 학점 출력하기 "
      ],
      "metadata": {
        "id": "MMnvgYMLdDVJ"
      }
    },
    {
      "cell_type": "code",
      "source": [
        "f = open('student.txt', 'w')\n",
        "while True:\n",
        "  name = input('name: ')\n",
        "  kor = input('kor score: ')\n",
        "  eng = input('eng score: ')\n",
        "  math = input('math score: ')\n",
        "  if name == \"\":\n",
        "    break\n",
        "  f.write(\" \".join([name, kor, eng, math + '\\n']))\n",
        "f.close()"
      ],
      "metadata": {
        "colab": {
          "base_uri": "https://localhost:8080/"
        },
        "id": "rsyuXKvLdBS2",
        "outputId": "bdf4ec8c-dcd4-4776-a658-4999fae43eec"
      },
      "execution_count": null,
      "outputs": [
        {
          "name": "stdout",
          "output_type": "stream",
          "text": [
            "name: 장서윤\n",
            "kor score: 100\n",
            "eng score: 100\n",
            "math score: 100\n",
            "name: 문수애\n",
            "kor score: 98\n",
            "eng score: 99\n",
            "math score: 100\n",
            "name: 박찬진\n",
            "kor score: 87\n",
            "eng score: 99\n",
            "math score: 96\n",
            "name: 김석열\n",
            "kor score: 100\n",
            "eng score: 96\n",
            "math score: 56\n",
            "name: 백소은\n",
            "kor score: 87\n",
            "eng score: 69\n",
            "math score: 63\n",
            "name: \n",
            "kor score: \n",
            "eng score: \n",
            "math score: \n"
          ]
        }
      ]
    },
    {
      "cell_type": "code",
      "source": [
        "student =  []\n",
        "\n",
        "f = open(\"/content/student.txt\", 'r')\n",
        "lines = f.readlines()\n",
        "\n",
        "for i in lines:\n",
        "  i = i.strip('\\n')\n",
        "  s =Student(str(i.split(' ')[0]), int(i.split(' ')[1]), int(i.split(' ')[2]), int(i.split(' ')[3]))\n",
        "  student.append(s)\n",
        "\n",
        "print('이름   평균   학점')\n",
        "print('================')\n",
        "for i in range(len(student)):\n",
        "  student[i].getSum()\n",
        "  student[i].getAvg()\n",
        "  student[i].getGrade()\n",
        "  student[i].getString()\n",
        "print(\"================\")\n"
      ],
      "metadata": {
        "colab": {
          "base_uri": "https://localhost:8080/"
        },
        "id": "jLF71tj8mWq8",
        "outputId": "4fc9293c-f920-42a7-fa5c-67085589b112"
      },
      "execution_count": null,
      "outputs": [
        {
          "output_type": "stream",
          "name": "stdout",
          "text": [
            "이름   평균   학점\n",
            "================\n",
            "장서윤    100    A\n",
            "문수애    99    A\n",
            "박찬진    94    A\n",
            "김석열    84    B\n",
            "백소은    73    B\n",
            "================\n"
          ]
        }
      ]
    }
  ]
}