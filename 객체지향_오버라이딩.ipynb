{
  "nbformat": 4,
  "nbformat_minor": 0,
  "metadata": {
    "colab": {
      "provenance": []
    },
    "kernelspec": {
      "name": "python3",
      "display_name": "Python 3"
    },
    "language_info": {
      "name": "python"
    }
  },
  "cells": [
    {
      "cell_type": "code",
      "source": [
        "help(str)"
      ],
      "metadata": {
        "colab": {
          "base_uri": "https://localhost:8080/"
        },
        "id": "sAdm5GmOzEE1",
        "outputId": "f1dfbfc7-be79-4511-b2f2-6fb839568f4f"
      },
      "execution_count": null,
      "outputs": [
        {
          "output_type": "stream",
          "name": "stdout",
          "text": [
            "Help on class str in module builtins:\n",
            "\n",
            "class str(object)\n",
            " |  str(object='') -> str\n",
            " |  str(bytes_or_buffer[, encoding[, errors]]) -> str\n",
            " |  \n",
            " |  Create a new string object from the given object. If encoding or\n",
            " |  errors is specified, then the object must expose a data buffer\n",
            " |  that will be decoded using the given encoding and error handler.\n",
            " |  Otherwise, returns the result of object.__str__() (if defined)\n",
            " |  or repr(object).\n",
            " |  encoding defaults to sys.getdefaultencoding().\n",
            " |  errors defaults to 'strict'.\n",
            " |  \n",
            " |  Methods defined here:\n",
            " |  \n",
            " |  __add__(self, value, /)\n",
            " |      Return self+value.\n",
            " |  \n",
            " |  __contains__(self, key, /)\n",
            " |      Return key in self.\n",
            " |  \n",
            " |  __eq__(self, value, /)\n",
            " |      Return self==value.\n",
            " |  \n",
            " |  __format__(self, format_spec, /)\n",
            " |      Return a formatted version of the string as described by format_spec.\n",
            " |  \n",
            " |  __ge__(self, value, /)\n",
            " |      Return self>=value.\n",
            " |  \n",
            " |  __getattribute__(self, name, /)\n",
            " |      Return getattr(self, name).\n",
            " |  \n",
            " |  __getitem__(self, key, /)\n",
            " |      Return self[key].\n",
            " |  \n",
            " |  __getnewargs__(...)\n",
            " |  \n",
            " |  __gt__(self, value, /)\n",
            " |      Return self>value.\n",
            " |  \n",
            " |  __hash__(self, /)\n",
            " |      Return hash(self).\n",
            " |  \n",
            " |  __iter__(self, /)\n",
            " |      Implement iter(self).\n",
            " |  \n",
            " |  __le__(self, value, /)\n",
            " |      Return self<=value.\n",
            " |  \n",
            " |  __len__(self, /)\n",
            " |      Return len(self).\n",
            " |  \n",
            " |  __lt__(self, value, /)\n",
            " |      Return self<value.\n",
            " |  \n",
            " |  __mod__(self, value, /)\n",
            " |      Return self%value.\n",
            " |  \n",
            " |  __mul__(self, value, /)\n",
            " |      Return self*value.\n",
            " |  \n",
            " |  __ne__(self, value, /)\n",
            " |      Return self!=value.\n",
            " |  \n",
            " |  __repr__(self, /)\n",
            " |      Return repr(self).\n",
            " |  \n",
            " |  __rmod__(self, value, /)\n",
            " |      Return value%self.\n",
            " |  \n",
            " |  __rmul__(self, value, /)\n",
            " |      Return value*self.\n",
            " |  \n",
            " |  __sizeof__(self, /)\n",
            " |      Return the size of the string in memory, in bytes.\n",
            " |  \n",
            " |  __str__(self, /)\n",
            " |      Return str(self).\n",
            " |  \n",
            " |  capitalize(self, /)\n",
            " |      Return a capitalized version of the string.\n",
            " |      \n",
            " |      More specifically, make the first character have upper case and the rest lower\n",
            " |      case.\n",
            " |  \n",
            " |  casefold(self, /)\n",
            " |      Return a version of the string suitable for caseless comparisons.\n",
            " |  \n",
            " |  center(self, width, fillchar=' ', /)\n",
            " |      Return a centered string of length width.\n",
            " |      \n",
            " |      Padding is done using the specified fill character (default is a space).\n",
            " |  \n",
            " |  count(...)\n",
            " |      S.count(sub[, start[, end]]) -> int\n",
            " |      \n",
            " |      Return the number of non-overlapping occurrences of substring sub in\n",
            " |      string S[start:end].  Optional arguments start and end are\n",
            " |      interpreted as in slice notation.\n",
            " |  \n",
            " |  encode(self, /, encoding='utf-8', errors='strict')\n",
            " |      Encode the string using the codec registered for encoding.\n",
            " |      \n",
            " |      encoding\n",
            " |        The encoding in which to encode the string.\n",
            " |      errors\n",
            " |        The error handling scheme to use for encoding errors.\n",
            " |        The default is 'strict' meaning that encoding errors raise a\n",
            " |        UnicodeEncodeError.  Other possible values are 'ignore', 'replace' and\n",
            " |        'xmlcharrefreplace' as well as any other name registered with\n",
            " |        codecs.register_error that can handle UnicodeEncodeErrors.\n",
            " |  \n",
            " |  endswith(...)\n",
            " |      S.endswith(suffix[, start[, end]]) -> bool\n",
            " |      \n",
            " |      Return True if S ends with the specified suffix, False otherwise.\n",
            " |      With optional start, test S beginning at that position.\n",
            " |      With optional end, stop comparing S at that position.\n",
            " |      suffix can also be a tuple of strings to try.\n",
            " |  \n",
            " |  expandtabs(self, /, tabsize=8)\n",
            " |      Return a copy where all tab characters are expanded using spaces.\n",
            " |      \n",
            " |      If tabsize is not given, a tab size of 8 characters is assumed.\n",
            " |  \n",
            " |  find(...)\n",
            " |      S.find(sub[, start[, end]]) -> int\n",
            " |      \n",
            " |      Return the lowest index in S where substring sub is found,\n",
            " |      such that sub is contained within S[start:end].  Optional\n",
            " |      arguments start and end are interpreted as in slice notation.\n",
            " |      \n",
            " |      Return -1 on failure.\n",
            " |  \n",
            " |  format(...)\n",
            " |      S.format(*args, **kwargs) -> str\n",
            " |      \n",
            " |      Return a formatted version of S, using substitutions from args and kwargs.\n",
            " |      The substitutions are identified by braces ('{' and '}').\n",
            " |  \n",
            " |  format_map(...)\n",
            " |      S.format_map(mapping) -> str\n",
            " |      \n",
            " |      Return a formatted version of S, using substitutions from mapping.\n",
            " |      The substitutions are identified by braces ('{' and '}').\n",
            " |  \n",
            " |  index(...)\n",
            " |      S.index(sub[, start[, end]]) -> int\n",
            " |      \n",
            " |      Return the lowest index in S where substring sub is found,\n",
            " |      such that sub is contained within S[start:end].  Optional\n",
            " |      arguments start and end are interpreted as in slice notation.\n",
            " |      \n",
            " |      Raises ValueError when the substring is not found.\n",
            " |  \n",
            " |  isalnum(self, /)\n",
            " |      Return True if the string is an alpha-numeric string, False otherwise.\n",
            " |      \n",
            " |      A string is alpha-numeric if all characters in the string are alpha-numeric and\n",
            " |      there is at least one character in the string.\n",
            " |  \n",
            " |  isalpha(self, /)\n",
            " |      Return True if the string is an alphabetic string, False otherwise.\n",
            " |      \n",
            " |      A string is alphabetic if all characters in the string are alphabetic and there\n",
            " |      is at least one character in the string.\n",
            " |  \n",
            " |  isascii(self, /)\n",
            " |      Return True if all characters in the string are ASCII, False otherwise.\n",
            " |      \n",
            " |      ASCII characters have code points in the range U+0000-U+007F.\n",
            " |      Empty string is ASCII too.\n",
            " |  \n",
            " |  isdecimal(self, /)\n",
            " |      Return True if the string is a decimal string, False otherwise.\n",
            " |      \n",
            " |      A string is a decimal string if all characters in the string are decimal and\n",
            " |      there is at least one character in the string.\n",
            " |  \n",
            " |  isdigit(self, /)\n",
            " |      Return True if the string is a digit string, False otherwise.\n",
            " |      \n",
            " |      A string is a digit string if all characters in the string are digits and there\n",
            " |      is at least one character in the string.\n",
            " |  \n",
            " |  isidentifier(self, /)\n",
            " |      Return True if the string is a valid Python identifier, False otherwise.\n",
            " |      \n",
            " |      Call keyword.iskeyword(s) to test whether string s is a reserved identifier,\n",
            " |      such as \"def\" or \"class\".\n",
            " |  \n",
            " |  islower(self, /)\n",
            " |      Return True if the string is a lowercase string, False otherwise.\n",
            " |      \n",
            " |      A string is lowercase if all cased characters in the string are lowercase and\n",
            " |      there is at least one cased character in the string.\n",
            " |  \n",
            " |  isnumeric(self, /)\n",
            " |      Return True if the string is a numeric string, False otherwise.\n",
            " |      \n",
            " |      A string is numeric if all characters in the string are numeric and there is at\n",
            " |      least one character in the string.\n",
            " |  \n",
            " |  isprintable(self, /)\n",
            " |      Return True if the string is printable, False otherwise.\n",
            " |      \n",
            " |      A string is printable if all of its characters are considered printable in\n",
            " |      repr() or if it is empty.\n",
            " |  \n",
            " |  isspace(self, /)\n",
            " |      Return True if the string is a whitespace string, False otherwise.\n",
            " |      \n",
            " |      A string is whitespace if all characters in the string are whitespace and there\n",
            " |      is at least one character in the string.\n",
            " |  \n",
            " |  istitle(self, /)\n",
            " |      Return True if the string is a title-cased string, False otherwise.\n",
            " |      \n",
            " |      In a title-cased string, upper- and title-case characters may only\n",
            " |      follow uncased characters and lowercase characters only cased ones.\n",
            " |  \n",
            " |  isupper(self, /)\n",
            " |      Return True if the string is an uppercase string, False otherwise.\n",
            " |      \n",
            " |      A string is uppercase if all cased characters in the string are uppercase and\n",
            " |      there is at least one cased character in the string.\n",
            " |  \n",
            " |  join(self, iterable, /)\n",
            " |      Concatenate any number of strings.\n",
            " |      \n",
            " |      The string whose method is called is inserted in between each given string.\n",
            " |      The result is returned as a new string.\n",
            " |      \n",
            " |      Example: '.'.join(['ab', 'pq', 'rs']) -> 'ab.pq.rs'\n",
            " |  \n",
            " |  ljust(self, width, fillchar=' ', /)\n",
            " |      Return a left-justified string of length width.\n",
            " |      \n",
            " |      Padding is done using the specified fill character (default is a space).\n",
            " |  \n",
            " |  lower(self, /)\n",
            " |      Return a copy of the string converted to lowercase.\n",
            " |  \n",
            " |  lstrip(self, chars=None, /)\n",
            " |      Return a copy of the string with leading whitespace removed.\n",
            " |      \n",
            " |      If chars is given and not None, remove characters in chars instead.\n",
            " |  \n",
            " |  partition(self, sep, /)\n",
            " |      Partition the string into three parts using the given separator.\n",
            " |      \n",
            " |      This will search for the separator in the string.  If the separator is found,\n",
            " |      returns a 3-tuple containing the part before the separator, the separator\n",
            " |      itself, and the part after it.\n",
            " |      \n",
            " |      If the separator is not found, returns a 3-tuple containing the original string\n",
            " |      and two empty strings.\n",
            " |  \n",
            " |  removeprefix(self, prefix, /)\n",
            " |      Return a str with the given prefix string removed if present.\n",
            " |      \n",
            " |      If the string starts with the prefix string, return string[len(prefix):].\n",
            " |      Otherwise, return a copy of the original string.\n",
            " |  \n",
            " |  removesuffix(self, suffix, /)\n",
            " |      Return a str with the given suffix string removed if present.\n",
            " |      \n",
            " |      If the string ends with the suffix string and that suffix is not empty,\n",
            " |      return string[:-len(suffix)]. Otherwise, return a copy of the original\n",
            " |      string.\n",
            " |  \n",
            " |  replace(self, old, new, count=-1, /)\n",
            " |      Return a copy with all occurrences of substring old replaced by new.\n",
            " |      \n",
            " |        count\n",
            " |          Maximum number of occurrences to replace.\n",
            " |          -1 (the default value) means replace all occurrences.\n",
            " |      \n",
            " |      If the optional argument count is given, only the first count occurrences are\n",
            " |      replaced.\n",
            " |  \n",
            " |  rfind(...)\n",
            " |      S.rfind(sub[, start[, end]]) -> int\n",
            " |      \n",
            " |      Return the highest index in S where substring sub is found,\n",
            " |      such that sub is contained within S[start:end].  Optional\n",
            " |      arguments start and end are interpreted as in slice notation.\n",
            " |      \n",
            " |      Return -1 on failure.\n",
            " |  \n",
            " |  rindex(...)\n",
            " |      S.rindex(sub[, start[, end]]) -> int\n",
            " |      \n",
            " |      Return the highest index in S where substring sub is found,\n",
            " |      such that sub is contained within S[start:end].  Optional\n",
            " |      arguments start and end are interpreted as in slice notation.\n",
            " |      \n",
            " |      Raises ValueError when the substring is not found.\n",
            " |  \n",
            " |  rjust(self, width, fillchar=' ', /)\n",
            " |      Return a right-justified string of length width.\n",
            " |      \n",
            " |      Padding is done using the specified fill character (default is a space).\n",
            " |  \n",
            " |  rpartition(self, sep, /)\n",
            " |      Partition the string into three parts using the given separator.\n",
            " |      \n",
            " |      This will search for the separator in the string, starting at the end. If\n",
            " |      the separator is found, returns a 3-tuple containing the part before the\n",
            " |      separator, the separator itself, and the part after it.\n",
            " |      \n",
            " |      If the separator is not found, returns a 3-tuple containing two empty strings\n",
            " |      and the original string.\n",
            " |  \n",
            " |  rsplit(self, /, sep=None, maxsplit=-1)\n",
            " |      Return a list of the substrings in the string, using sep as the separator string.\n",
            " |      \n",
            " |        sep\n",
            " |          The separator used to split the string.\n",
            " |      \n",
            " |          When set to None (the default value), will split on any whitespace\n",
            " |          character (including \\\\n \\\\r \\\\t \\\\f and spaces) and will discard\n",
            " |          empty strings from the result.\n",
            " |        maxsplit\n",
            " |          Maximum number of splits (starting from the left).\n",
            " |          -1 (the default value) means no limit.\n",
            " |      \n",
            " |      Splitting starts at the end of the string and works to the front.\n",
            " |  \n",
            " |  rstrip(self, chars=None, /)\n",
            " |      Return a copy of the string with trailing whitespace removed.\n",
            " |      \n",
            " |      If chars is given and not None, remove characters in chars instead.\n",
            " |  \n",
            " |  split(self, /, sep=None, maxsplit=-1)\n",
            " |      Return a list of the substrings in the string, using sep as the separator string.\n",
            " |      \n",
            " |        sep\n",
            " |          The separator used to split the string.\n",
            " |      \n",
            " |          When set to None (the default value), will split on any whitespace\n",
            " |          character (including \\\\n \\\\r \\\\t \\\\f and spaces) and will discard\n",
            " |          empty strings from the result.\n",
            " |        maxsplit\n",
            " |          Maximum number of splits (starting from the left).\n",
            " |          -1 (the default value) means no limit.\n",
            " |      \n",
            " |      Note, str.split() is mainly useful for data that has been intentionally\n",
            " |      delimited.  With natural text that includes punctuation, consider using\n",
            " |      the regular expression module.\n",
            " |  \n",
            " |  splitlines(self, /, keepends=False)\n",
            " |      Return a list of the lines in the string, breaking at line boundaries.\n",
            " |      \n",
            " |      Line breaks are not included in the resulting list unless keepends is given and\n",
            " |      true.\n",
            " |  \n",
            " |  startswith(...)\n",
            " |      S.startswith(prefix[, start[, end]]) -> bool\n",
            " |      \n",
            " |      Return True if S starts with the specified prefix, False otherwise.\n",
            " |      With optional start, test S beginning at that position.\n",
            " |      With optional end, stop comparing S at that position.\n",
            " |      prefix can also be a tuple of strings to try.\n",
            " |  \n",
            " |  strip(self, chars=None, /)\n",
            " |      Return a copy of the string with leading and trailing whitespace removed.\n",
            " |      \n",
            " |      If chars is given and not None, remove characters in chars instead.\n",
            " |  \n",
            " |  swapcase(self, /)\n",
            " |      Convert uppercase characters to lowercase and lowercase characters to uppercase.\n",
            " |  \n",
            " |  title(self, /)\n",
            " |      Return a version of the string where each word is titlecased.\n",
            " |      \n",
            " |      More specifically, words start with uppercased characters and all remaining\n",
            " |      cased characters have lower case.\n",
            " |  \n",
            " |  translate(self, table, /)\n",
            " |      Replace each character in the string using the given translation table.\n",
            " |      \n",
            " |        table\n",
            " |          Translation table, which must be a mapping of Unicode ordinals to\n",
            " |          Unicode ordinals, strings, or None.\n",
            " |      \n",
            " |      The table must implement lookup/indexing via __getitem__, for instance a\n",
            " |      dictionary or list.  If this operation raises LookupError, the character is\n",
            " |      left untouched.  Characters mapped to None are deleted.\n",
            " |  \n",
            " |  upper(self, /)\n",
            " |      Return a copy of the string converted to uppercase.\n",
            " |  \n",
            " |  zfill(self, width, /)\n",
            " |      Pad a numeric string with zeros on the left, to fill a field of the given width.\n",
            " |      \n",
            " |      The string is never truncated.\n",
            " |  \n",
            " |  ----------------------------------------------------------------------\n",
            " |  Static methods defined here:\n",
            " |  \n",
            " |  __new__(*args, **kwargs) from builtins.type\n",
            " |      Create and return a new object.  See help(type) for accurate signature.\n",
            " |  \n",
            " |  maketrans(...)\n",
            " |      Return a translation table usable for str.translate().\n",
            " |      \n",
            " |      If there is only one argument, it must be a dictionary mapping Unicode\n",
            " |      ordinals (integers) or characters to Unicode ordinals, strings or None.\n",
            " |      Character keys will be then converted to ordinals.\n",
            " |      If there are two arguments, they must be strings of equal length, and\n",
            " |      in the resulting dictionary, each character in x will be mapped to the\n",
            " |      character at the same position in y. If there is a third argument, it\n",
            " |      must be a string, whose characters will be mapped to None in the result.\n",
            "\n"
          ]
        }
      ]
    },
    {
      "cell_type": "code",
      "execution_count": null,
      "metadata": {
        "id": "_9VJHDWFV7k1"
      },
      "outputs": [],
      "source": [
        "import math\n",
        "class circle:\n",
        "  def __init__(self, radius):\n",
        "    self.radius = radius\n",
        "  def getArea(self):\n",
        "    area = self.radius **2 * math.pi\n",
        "    return area\n",
        "  def getPrimeter(self):\n",
        "    perimeter = self.radius *2 * math.pi\n",
        "    return perimeter\n",
        "  def show(self):\n",
        "    print(f'원의 면적: {self.getArea():.2f}, 원의 둘레: {self.getPrimeter():.2f}')"
      ]
    },
    {
      "cell_type": "code",
      "source": [
        "radius = int(input('radius: '))\n",
        "c1 = circle(radius)\n",
        "# 이 두줄을 출력 메소드로 하나 만들어주면 매번 출력할 필요 없음.\n",
        "print(f'원의 면적: {c1.getArea():.2f}')\n",
        "print(f'원의 둘레: {c1.getPrimeter():.2f}')\n",
        "\n",
        "c1.show()"
      ],
      "metadata": {
        "colab": {
          "base_uri": "https://localhost:8080/"
        },
        "id": "5o3wEvX13Ujg",
        "outputId": "121c19a7-e3ce-47de-d896-8b8970fb0473"
      },
      "execution_count": null,
      "outputs": [
        {
          "output_type": "stream",
          "name": "stdout",
          "text": [
            "radius: 5\n",
            "원의 면적: 78.54\n",
            "원의 둘레: 31.42\n",
            "원의 면적: 78.54, 원의 둘레: 31.42\n"
          ]
        }
      ]
    },
    {
      "cell_type": "markdown",
      "source": [
        "# 클래스 속성과 인스턴스 속성"
      ],
      "metadata": {
        "id": "Cr1X0RJMYmgR"
      }
    },
    {
      "cell_type": "code",
      "source": [
        "class BankAccount:\n",
        "  def __init__(self):\n",
        "    self.balance = 0 # 처음 잔고는 0원으로 셋팅\n",
        "    \n",
        "  #출금 메소드\n",
        "  def withdraw(self, amount):\n",
        "    if amount <= self.balance:\n",
        "      self.balance -= amount\n",
        "      print(f'통장에 {amount} 출금됨')\n",
        "    else:\n",
        "      print('잔액부족')\n",
        " # 입금 메소드\n",
        "  def deposit(self, amount):\n",
        "    self.balance += amount\n",
        "    print(f'통장에 {amount} 입금됨')\n",
        "\n",
        "  def __str__(self):\n",
        "    return f'현재 잔액: {self.balance}'"
      ],
      "metadata": {
        "id": "Yn0ImCw_4Uuf"
      },
      "execution_count": null,
      "outputs": []
    },
    {
      "cell_type": "code",
      "source": [
        "# Test\n",
        "b1 = BankAccount()\n",
        "b1.deposit(10000)\n",
        "print(b1)\n",
        "b1.withdraw(5000)\n",
        "print(b1)\n",
        "b1.withdraw(6000)\n",
        "print(b1)"
      ],
      "metadata": {
        "colab": {
          "base_uri": "https://localhost:8080/"
        },
        "id": "qxFi6BJq7z5s",
        "outputId": "d5c252e5-0687-4633-cebc-e2beec3173ed"
      },
      "execution_count": null,
      "outputs": [
        {
          "output_type": "stream",
          "name": "stdout",
          "text": [
            "통장에 10000 입금됨\n",
            "현재 잔액: 10000\n",
            "통장에 5000 출금됨\n",
            "현재 잔액: 5000\n",
            "잔액부족\n",
            "현재 잔액: 5000\n"
          ]
        }
      ]
    },
    {
      "cell_type": "markdown",
      "source": [
        "# 클래스변수와 인스턴스변수"
      ],
      "metadata": {
        "id": "RAbSywHu_hKD"
      }
    },
    {
      "cell_type": "code",
      "source": [
        "class Car:\n",
        "  cnt = 0\n",
        "  def __init__(self, model, color):\n",
        "    self.model = model # 인스턴스 변수\n",
        "    self.color = color # 인스턴스 변수\n",
        "    self.cnt = self.cnt +1 # 인스턴스 변수\n",
        "\n",
        "  def __str__(self):\n",
        "    return f\"자동차 {self.cnt}가 생성되었습니다.\"\n",
        "    \n",
        "c1 = Car('E-class', 'red')\n",
        "print(c1)\n",
        "c2 = Car('E-class', 'blue')\n",
        "print(c2)"
      ],
      "metadata": {
        "colab": {
          "base_uri": "https://localhost:8080/"
        },
        "id": "J6JhAmEB_kcC",
        "outputId": "6aa5b1fd-2908-4da2-c1a3-26057421ee94"
      },
      "execution_count": null,
      "outputs": [
        {
          "output_type": "stream",
          "name": "stdout",
          "text": [
            "자동차 1가 생성되었습니다.\n",
            "자동차 1가 생성되었습니다.\n"
          ]
        }
      ]
    },
    {
      "cell_type": "code",
      "source": [
        "class Car:\n",
        "  cnt = 0\n",
        "  def __init__(self, model, color):\n",
        "    self.model = model # 인스턴스 변수\n",
        "    self.color = color # 인스턴스 변수\n",
        "    Car.cnt = Car.cnt+1 # 클래스 변수\n",
        "\n",
        "  def __str__(self):\n",
        "    return f\"자동차 {Car.cnt}가 생성되었습니다.\"\n",
        "    \n",
        "c1 = Car('E-class', 'red')\n",
        "print(c1)\n",
        "c2 = Car('E-class', 'blue')\n",
        "print(c2)\n",
        "print(f'자동차의 총 대수는 {Car.cnt} 입니다.') # 클래스 변수 접근 "
      ],
      "metadata": {
        "colab": {
          "base_uri": "https://localhost:8080/"
        },
        "id": "rZhAafYdBCt7",
        "outputId": "e02c9b3c-adaf-48e7-ce30-44188425a664"
      },
      "execution_count": null,
      "outputs": [
        {
          "output_type": "stream",
          "name": "stdout",
          "text": [
            "자동차 1가 생성되었습니다.\n",
            "자동차 2가 생성되었습니다.\n",
            "자동차의 총 대수는 2 입니다.\n"
          ]
        }
      ]
    },
    {
      "cell_type": "markdown",
      "source": [
        "# 상속구현"
      ],
      "metadata": {
        "id": "xJQdt1qzODq5"
      }
    },
    {
      "cell_type": "markdown",
      "source": [
        "# 상속의 필요성\n",
        "- 클래스 사이의 멤버 중복 선언 불필요\n",
        "- 필드(멤버변수)와 메소드 재사용으로 클래스 간결화\n",
        "- 클래스 간 계층적 분류 및 관리"
      ],
      "metadata": {
        "id": "oD44X4BVayet"
      }
    },
    {
      "cell_type": "markdown",
      "source": [
        "# 상속 예제\n",
        "- 사람 : 이름,나이\n",
        "- 대학생 : 이름,나이,학과"
      ],
      "metadata": {
        "id": "B-2J1n81ajcz"
      }
    },
    {
      "cell_type": "code",
      "source": [
        "class Person:\n",
        "  def __init__(self, name, age):\n",
        "    self.name= name\n",
        "    self.age= age\n",
        "  def setName(self , name):\n",
        "    self.name=name\n",
        "  \n",
        "  def setAge(self, age):\n",
        "    self.age = age\n",
        "  \n",
        "  def show(self):\n",
        "    print(f'{self.name}, {self.age}')\n",
        "\n",
        "  def work(self):\n",
        "    print('일을 한다')"
      ],
      "metadata": {
        "id": "3EOL6ss2bgma"
      },
      "execution_count": null,
      "outputs": []
    },
    {
      "cell_type": "code",
      "source": [
        "class Student(Person): #상속: 자식클래스명(부모클래스명)\n",
        "  def __init__(self, name, age, dept): # 학과 인자 추가 \n",
        "    super().__init__(name, age) # 부모 생성자 호출\n",
        "    self. dept = dept\n",
        "\n",
        "  def show(self):# 메소드 오버라이딩\n",
        "    print(f'{self.name}, {self.age}, {self.dept}')\n",
        "\n",
        "  def work(self): # 메소드 오버라이딩\n",
        "    #super().work()\n",
        "    print('공부를 한다')"
      ],
      "metadata": {
        "id": "XSpjJhDRc0uR"
      },
      "execution_count": null,
      "outputs": []
    },
    {
      "cell_type": "code",
      "source": [
        "s1 = Student(\"장서윤\", 20, \"IE\")\n",
        "s1.show()\n",
        "s1.work() # 부모의 매소드 < 자식의 메소드가 우선한다. "
      ],
      "metadata": {
        "colab": {
          "base_uri": "https://localhost:8080/"
        },
        "id": "0p2HqHeCdQX6",
        "outputId": "2e451cd3-dd65-43df-b726-0058d12064ae"
      },
      "execution_count": null,
      "outputs": [
        {
          "output_type": "stream",
          "name": "stdout",
          "text": [
            "장서윤, 20, IE\n",
            "공부를 한다\n"
          ]
        }
      ]
    },
    {
      "cell_type": "code",
      "source": [
        "p1 = Person('김서윤', 10)\n",
        "p1.setName('장서윤')\n",
        "p1.setAge(20)\n",
        "p1.show()"
      ],
      "metadata": {
        "colab": {
          "base_uri": "https://localhost:8080/"
        },
        "id": "blzInaLfDpNE",
        "outputId": "68be4cc7-1537-4422-d658-dc43feee03d0"
      },
      "execution_count": null,
      "outputs": [
        {
          "output_type": "stream",
          "name": "stdout",
          "text": [
            "장서윤, 20\n"
          ]
        }
      ]
    },
    {
      "cell_type": "code",
      "source": [
        "class Car:\n",
        "  def __init__(self, model, color, price):\n",
        "    self.model = model\n",
        "    self.color = color\n",
        "    self.price = price\n",
        "  def __str__(self):\n",
        "    result = f'model:{self.model}, color:{self.color}, price:{self.price}'\n",
        "    return result\n",
        "\n",
        "class ElectricCar():\n",
        "  def __init__(self, model, color, price, batterySize):\n",
        "    self.model = model\n",
        "    self.color= color\n",
        "    self.price= price\n",
        "    self.batterySize = batterySize\n",
        "\n",
        "  def __str__(self):\n",
        "    result = f'model:{self.model}, color:{self.color}, price:{self.price}, batterySize:{self.batterySize}'\n",
        "    return result\n",
        "  \n",
        "e1 = ElectricCar('Model5', 'red', 10000,0)\n",
        "print(e1)"
      ],
      "metadata": {
        "id": "SqvS1wg2OFwi",
        "colab": {
          "base_uri": "https://localhost:8080/"
        },
        "outputId": "921d8ad8-3489-4ceb-9099-f92ebbcdad70"
      },
      "execution_count": null,
      "outputs": [
        {
          "output_type": "stream",
          "name": "stdout",
          "text": [
            "model:Model5, color:red, price:10000, batterySize:0\n"
          ]
        }
      ]
    },
    {
      "cell_type": "code",
      "source": [
        "class ElectricCar(Car):\n",
        "  def __init__(self, model, color, price, batterySize):\n",
        "    super().__init__(model, color, price) # 부모 생성자 호출 \n",
        "    self.batterySize = batterySize\n",
        "\n",
        "  def __str__(self):\n",
        "    result= super().__str__() # 부모 메소드 호출\n",
        "    result += f', batterySize:{self.batterySize}'\n",
        "    return result\n",
        "\n",
        "e1 = ElectricCar('Model5', 'red', 10000, 0)\n",
        "print(e1)"
      ],
      "metadata": {
        "colab": {
          "base_uri": "https://localhost:8080/"
        },
        "id": "fIUcWXhZP275",
        "outputId": "4eaed1cc-e9ed-4011-e7ea-a9b6d546d2a6"
      },
      "execution_count": null,
      "outputs": [
        {
          "output_type": "stream",
          "name": "stdout",
          "text": [
            "model:Model5, color:red, price:10000, batterySize:0\n"
          ]
        }
      ]
    },
    {
      "cell_type": "markdown",
      "source": [
        "## 메소드오버라이딩"
      ],
      "metadata": {
        "id": "u7XLUkxPSvzy"
      }
    },
    {
      "cell_type": "code",
      "source": [
        "class Bank():\n",
        "  def getInterestRate(self):\n",
        "    return 0.0\n",
        "  \n",
        "class BadBank(Bank):\n",
        "  def getInterestRate(self):\n",
        "    return 10.0;\n",
        "\n",
        "class NormalBank(Bank):\n",
        "  def getInterestRate(self):\n",
        "    return 5.0;\n",
        "\n",
        "class GoodBank(Bank):\n",
        "  def getInterestRate(self):\n",
        "    return 3.0;\n",
        "\n",
        "b1 = BadBank()\n",
        "b2 = NormalBank()\n",
        "b3 = GoodBank()\n",
        "\n",
        "print(f'BadBank의 이자율: {b1.getInterestRate()}')\n",
        "print(f'NormalBank의 이자율: {b2.getInterestRate()}')\n",
        "print(f'GoodBank의 이자율: {b3.getInterestRate()}')"
      ],
      "metadata": {
        "colab": {
          "base_uri": "https://localhost:8080/"
        },
        "id": "EqYYPLSAS1W4",
        "outputId": "eab705f3-d986-421f-ffcd-741fe15b7cef"
      },
      "execution_count": null,
      "outputs": [
        {
          "output_type": "stream",
          "name": "stdout",
          "text": [
            "BadBank의 이자율: 10.0\n",
            "NormalBank의 이자율: 5.0\n",
            "GoodBank의 이자율: 3.0\n"
          ]
        }
      ]
    },
    {
      "cell_type": "markdown",
      "source": [
        "#예제 2 : 직원과 매니저\n",
        "회사에 직원(Employee)과 매니저(Manager)가 있다.\n",
        "직원은 월급만 있지만 매니저는 월급 외에 보너스가 있다고 하자.\n",
        "- Employee 클래스를 상속받아서 Manager 클래스를 작성한다.\n",
        "- Employee 클래스의 getSalary()는 Manager 클래스에서 재정의된다. \n",
        "\n",
        "Employee 클래스\n",
        "- name - 이름(문자열)\n",
        "- salary - 월급(정수형)\n",
        "- gerSalary - 월급을 반환하는 메소드\n",
        "\n",
        "Manager클래스\n",
        "- name - 이름(문자열)\n",
        "- salary - 월급(정수형)\n",
        "- bonus - 보너스(정수형)\n",
        "- gerSalary - 월급을 반환하는 메소드\n",
        "부모 클래스의 메소드를 오버라이드한다."
      ],
      "metadata": {
        "id": "nXEzGsb-IXCc"
      }
    },
    {
      "cell_type": "code",
      "source": [
        "class Employee:\n",
        "  def __init__(self, name, salary):\n",
        "    self.name = name\n",
        "    self.salary = salary\n",
        "\n",
        "  def getSalary(self):\n",
        "    return self.salary\n",
        "  \n",
        "  def __str__(self):\n",
        "    result = f'이름: {self.name}, 월급: {self.salary}'\n",
        "    return result\n",
        "\n",
        "E1 = Employee('장서윤', 9000000000)\n",
        "print(E1)"
      ],
      "metadata": {
        "colab": {
          "base_uri": "https://localhost:8080/"
        },
        "id": "SRgUc3hTIatG",
        "outputId": "100b22ab-cd63-4a6b-e0ec-c826c4c80c18"
      },
      "execution_count": null,
      "outputs": [
        {
          "output_type": "stream",
          "name": "stdout",
          "text": [
            "이름: 장서윤, 월급: 9000000000\n"
          ]
        }
      ]
    },
    {
      "cell_type": "code",
      "source": [
        "class Manager(Employee): # Employee 클래스를 상속받음\n",
        "  def __init__(self, name, salary, bonus):\n",
        "    super().__init__(name, salary) #부모 생성자 호출 \n",
        "    self.bonus = bonus\n",
        "\n",
        "  def getSalary(self): # 오버라이딩(재정의)\n",
        "    salary = super().getSalary()\n",
        "    salary = salary + self.bonus\n",
        "    return salary\n",
        "\n",
        "  def __str__(self):\n",
        "    result = f'{super().__str__()}, 보너스: {self.bonus}, 전체급여: {self.getSalary()}'\n",
        "    return result"
      ],
      "metadata": {
        "id": "LrfYB7QCDHM0"
      },
      "execution_count": null,
      "outputs": []
    },
    {
      "cell_type": "code",
      "source": [
        "M1 = Manager('장서윤', 10000000000000000, 50000000000)\n",
        "print(M1)\n",
        "M2 = Manager('곽두팔', 10000000, 500000)\n",
        "print(M2)"
      ],
      "metadata": {
        "colab": {
          "base_uri": "https://localhost:8080/"
        },
        "id": "xCkc1MYZgpJp",
        "outputId": "1cc583ce-6ab5-449c-8455-6012a916ed85"
      },
      "execution_count": null,
      "outputs": [
        {
          "output_type": "stream",
          "name": "stdout",
          "text": [
            "이름: 장서윤, 월급: 10000000000000000, 보너스: 50000000000, 전체급여: 10000050000000000\n",
            "이름: 곽두팔, 월급: 10000000, 보너스: 500000, 전체급여: 10500000\n"
          ]
        }
      ]
    },
    {
      "cell_type": "markdown",
      "source": [
        "# 예제 3\n",
        "![image.png](data:image/png;base64,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)"
      ],
      "metadata": {
        "id": "86OuQrNnS8oX"
      }
    },
    {
      "cell_type": "markdown",
      "source": [
        "상속할 때 생성자는 자동으로 상속되지 않는다. 따라서 부모의 생성자를 호출하고자 할 때는 super 키워드를 써야 한다.\n",
        "\n",
        ".__ : 프라히빗 개념이다. 맴버 변수나 메소드가 언더바로 시작하면 캡슐화 개념이어서 본인의 클래스 내에서만 접근할 수 있다. (외부 클래스에서는 접근할 수 없음.)\n"
      ],
      "metadata": {
        "id": "7YSz_Jwu3kwy"
      }
    },
    {
      "cell_type": "code",
      "source": [
        "# 부모클래스정의\n",
        "\n",
        "class Person:\n",
        "  def __init__(self, name, number):\n",
        "    self.number = number\n",
        "    self.name = name"
      ],
      "metadata": {
        "id": "9seipESiHn3A"
      },
      "execution_count": null,
      "outputs": []
    },
    {
      "cell_type": "code",
      "source": [
        "# 자식클래스정의\n",
        "\n",
        "class Student(Person): # Person class 상속\n",
        "  # 클래스 속성 정의\n",
        "  UNDERGRADUATE = 0\n",
        "  POSTGRADUATE = 1\n",
        "\n",
        "  def __init__(self, name, number, studentType):\n",
        "    self.classes = [] \n",
        "    super().__init__(name, number)\n",
        "    self.studentType = studentType\n",
        "    self.gpa = 0\n",
        "\n",
        "  def enrollCourse(self, class_name):\n",
        "    self.classes.append(class_name)\n",
        "    return self.classes\n",
        "\n",
        "  def __str__(self):\n",
        "    result = f'이름 : {self.name} \\n'\n",
        "    result += f'주민번호 : {self.number} \\n'\n",
        "    result += f'수강과목 : {self.classes} \\n'\n",
        "    result += f'평점:{self.gpa}'\n",
        "    return result\n",
        "\n",
        "class Teacher(Person): # Person class 상속\n",
        "  def __init__(self, name, number): \n",
        "    super().__init__(name, number)\n",
        "    self.courses = []\n",
        "    self.salary = 3000000\n",
        "  \n",
        "  def assignTeaching(self, teach_class):\n",
        "    return self.courses.append(teach_class)\n",
        "\n",
        "  def __str__(self):\n",
        "    #salary = len(self.courses) * 150000\n",
        "    result = f'이름 : {self.name} \\n주민번호 : {self.number} \\n'\n",
        "    result += f'수강과목 : {self.courses} \\nsalary : {self.salary}'\n",
        "    return result\n"
      ],
      "metadata": {
        "id": "wMN2uCIALIAO"
      },
      "execution_count": null,
      "outputs": []
    },
    {
      "cell_type": "code",
      "source": [
        "# 테스트 코드\n",
        "hong = Student('홍길동','12345678',Student.UNDERGRADUATE)\n",
        "\n",
        "hong.enrollCourse('중급프로그래밍')\n",
        "hong.enrollCourse('파이썬')\n",
        "hong.enrollCourse('빅데이터분석')\n",
        "print(hong)\n",
        "print('')\n",
        "kim = Teacher('장서윤','123456790')\n",
        "kim.assignTeaching('Python')\n",
        "kim.assignTeaching('머신러닝')\n",
        "print(kim)"
      ],
      "metadata": {
        "colab": {
          "base_uri": "https://localhost:8080/"
        },
        "id": "MkgJz6UiLiGn",
        "outputId": "c0e3d7ed-9873-4cb7-ee91-fa71fd367ea6"
      },
      "execution_count": null,
      "outputs": [
        {
          "output_type": "stream",
          "name": "stdout",
          "text": [
            "이름 : 홍길동 \n",
            "주민번호 : 12345678 \n",
            "수강과목 : ['중급프로그래밍', '파이썬', '빅데이터분석'] \n",
            "평점:0\n",
            "\n",
            "이름 : 장서윤 \n",
            "주민번호 : 123456790 \n",
            "수강과목 : ['Python', '머신러닝'] \n",
            "salary : 3000000\n"
          ]
        }
      ]
    },
    {
      "cell_type": "code",
      "source": [],
      "metadata": {
        "id": "xukhCkmngKW_"
      },
      "execution_count": null,
      "outputs": []
    }
  ]
}